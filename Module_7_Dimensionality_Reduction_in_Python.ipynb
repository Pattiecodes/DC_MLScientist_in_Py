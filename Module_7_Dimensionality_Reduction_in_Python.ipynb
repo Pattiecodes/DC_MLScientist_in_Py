{
  "nbformat": 4,
  "nbformat_minor": 0,
  "metadata": {
    "colab": {
      "provenance": [],
      "authorship_tag": "ABX9TyO/xLLnxI2KZF4uEDLHIYhA",
      "include_colab_link": true
    },
    "kernelspec": {
      "name": "python3",
      "display_name": "Python 3"
    },
    "language_info": {
      "name": "python"
    }
  },
  "cells": [
    {
      "cell_type": "markdown",
      "metadata": {
        "id": "view-in-github",
        "colab_type": "text"
      },
      "source": [
        "<a href=\"https://colab.research.google.com/github/Pattiecodes/DC_MLScientist_in_Py/blob/main/Module_7_Dimensionality_Reduction_in_Python.ipynb\" target=\"_parent\"><img src=\"https://colab.research.google.com/assets/colab-badge.svg\" alt=\"Open In Colab\"/></a>"
      ]
    },
    {
      "cell_type": "markdown",
      "source": [
        "# --- Module Start ---"
      ],
      "metadata": {
        "id": "TPJZjNO1_mAa"
      }
    },
    {
      "cell_type": "markdown",
      "source": [
        "# Removing features without variance\n",
        "A sample of the Pokemon dataset has been loaded as pokemon_df. To get an idea of which features have little variance you should use the IPython Shell to calculate summary statistics on this sample. Then adjust the code to create a smaller, easier to understand, dataset.\n",
        "\n",
        "Instructions 1/3\n",
        "35 XP\n",
        "2\n",
        "3\n",
        "Use the .describe() method to find the numeric feature without variance and remove its name from the list assigned to number_cols."
      ],
      "metadata": {
        "id": "IAUcQ5ob_o1r"
      }
    },
    {
      "cell_type": "code",
      "execution_count": null,
      "metadata": {
        "id": "i6E6KPI82mlg"
      },
      "outputs": [],
      "source": [
        "# Remove the feature without variance from this list\n",
        "number_cols = ['HP', 'Attack', 'Defense']\n",
        "\n",
        "pokemon_df.describe()"
      ]
    },
    {
      "cell_type": "markdown",
      "source": [
        "Instructions 2/3\n",
        "35 XP\n",
        "3\n",
        "Combine the two lists of feature names to sub-select the chosen features from pokemon_df."
      ],
      "metadata": {
        "id": "kCMO-mBf_v_u"
      }
    },
    {
      "cell_type": "code",
      "source": [
        "# Remove the feature without variance from this list\n",
        "number_cols = ['HP', 'Attack', 'Defense']\n",
        "\n",
        "# Leave this list as is for now\n",
        "non_number_cols = ['Name', 'Type', 'Legendary']\n",
        "\n",
        "# Sub-select by combining the lists with chosen features\n",
        "df_selected = pokemon_df[number_cols + non_number_cols]\n",
        "\n",
        "# Prints the first 5 lines of the new DataFrame\n",
        "print(df_selected.head())"
      ],
      "metadata": {
        "id": "gEiOv0WP_wUX"
      },
      "execution_count": null,
      "outputs": []
    },
    {
      "cell_type": "markdown",
      "source": [
        "Instructions 3/3\n",
        "30 XP\n",
        "Find the non-numeric feature without variance and remove its name from the list assigned to non_number_cols."
      ],
      "metadata": {
        "id": "gflMZVlsAR7y"
      }
    },
    {
      "cell_type": "code",
      "source": [
        "# Leave this list as is\n",
        "number_cols = ['HP', 'Attack', 'Defense']\n",
        "\n",
        "# Remove the feature without variance from this list\n",
        "non_number_cols = ['Name', 'Type']\n",
        "\n",
        "# Create a new DataFrame by subselecting the chosen features\n",
        "df_selected = pokemon_df[number_cols + non_number_cols]\n",
        "\n",
        "# Prints the first 5 lines of the new DataFrame\n",
        "print(df_selected.head())"
      ],
      "metadata": {
        "id": "0O1EAlrxASMw"
      },
      "execution_count": null,
      "outputs": []
    },
    {
      "cell_type": "markdown",
      "source": [
        "# Visually detecting redundant features\n",
        "Data visualization is a crucial step in any data exploration. Let's use Seaborn to explore some samples of the US Army ANSUR body measurement dataset.\n",
        "\n",
        "Two data samples have been pre-loaded as ansur_df_1 and ansur_df_2.\n",
        "\n",
        "Seaborn has been imported as sns.\n",
        "\n",
        "Instructions 1/4\n",
        "25 XP\n",
        "2\n",
        "3\n",
        "4\n",
        "Create a pairplot of the ansur_df_1 data sample and color the points using the 'Gender' feature."
      ],
      "metadata": {
        "id": "LKm04_VIDpyg"
      }
    },
    {
      "cell_type": "code",
      "source": [
        "# Create a pairplot and color the points using the 'Gender' feature\n",
        "sns.pairplot(ansur_df_1, hue='Gender', diag_kind='hist')\n",
        "\n",
        "# Show the plot\n",
        "plt.show()"
      ],
      "metadata": {
        "id": "__msjtcPDqR0"
      },
      "execution_count": null,
      "outputs": []
    },
    {
      "cell_type": "markdown",
      "source": [
        "Instructions 2/4\n",
        "25 XP\n",
        "3\n",
        "4\n",
        "Two features are basically duplicates, remove one of them from the dataset.\n"
      ],
      "metadata": {
        "id": "oTKIr_YoEPKN"
      }
    },
    {
      "cell_type": "code",
      "source": [
        "# Remove one of the redundant features\n",
        "reduced_df = ansur_df_1.drop('stature_m', axis=1)\n",
        "\n",
        "# Create a pairplot and color the points using the 'Gender' feature\n",
        "sns.pairplot(reduced_df, hue='Gender')\n",
        "\n",
        "# Show the plot\n",
        "plt.show()"
      ],
      "metadata": {
        "id": "xJY1mp5dEPYP"
      },
      "execution_count": null,
      "outputs": []
    },
    {
      "cell_type": "markdown",
      "source": [
        "Instructions 3/4\n",
        "25 XP\n",
        "4\n",
        "Now create a pairplot of the ansur_df_2 data sample and color the points using the 'Gender' feature."
      ],
      "metadata": {
        "id": "-5IkUjLvEius"
      }
    },
    {
      "cell_type": "code",
      "source": [
        "# Create a pairplot and color the points using the 'Gender' feature\n",
        "sns.pairplot(ansur_df_2, hue='Gender', diag_kind='hist')\n",
        "\n",
        "\n",
        "# Show the plot\n",
        "plt.show()"
      ],
      "metadata": {
        "id": "BfbpeTHBEi81"
      },
      "execution_count": null,
      "outputs": []
    },
    {
      "cell_type": "markdown",
      "source": [
        "Instructions 4/4\n",
        "25 XP\n",
        "One feature has no variance, remove it from the dataset."
      ],
      "metadata": {
        "id": "IfThcgFfEtZH"
      }
    },
    {
      "cell_type": "code",
      "source": [
        "# Remove the redundant feature\n",
        "reduced_df = ansur_df_2.drop('n_legs', axis=1)\n",
        "\n",
        "# Create a pairplot and color the points using the 'Gender' feature\n",
        "sns.pairplot(reduced_df, hue='Gender', diag_kind='hist')\n",
        "\n",
        "# Show the plot\n",
        "plt.show()"
      ],
      "metadata": {
        "id": "-dwNHOEaEt80"
      },
      "execution_count": null,
      "outputs": []
    },
    {
      "cell_type": "markdown",
      "source": [
        "# Fitting t-SNE to the ANSUR data\n",
        "t-SNE is a great technique for visual exploration of high dimensional datasets. In this exercise, you'll apply it to the ANSUR dataset. You'll remove non-numeric columns from the pre-loaded dataset df and fit TSNE to this numeric dataset.\n",
        "\n",
        "Instructions\n",
        "100 XP\n",
        "Drop the non-numeric columns from the dataset.\n",
        "Create a TSNE model with learning rate 50.\n",
        "Fit and transform the model on the numeric dataset."
      ],
      "metadata": {
        "id": "fOej6jQQgBCg"
      }
    },
    {
      "cell_type": "code",
      "source": [
        "# Non-numerical columns in the dataset\n",
        "non_numeric = ['Branch', 'Gender', 'Component']\n",
        "\n",
        "# Drop the non-numerical columns from df\n",
        "df_numeric = df.drop(non_numeric, axis=1)\n",
        "\n",
        "# Create a t-SNE model with learning rate 50\n",
        "m = TSNE(learning_rate = 50)\n",
        "\n",
        "# Fit and transform the t-SNE model on the numeric dataset\n",
        "tsne_features = m.fit_transform(df_numeric)\n",
        "print(tsne_features.shape)"
      ],
      "metadata": {
        "id": "npObLW9mgBV7"
      },
      "execution_count": null,
      "outputs": []
    },
    {
      "cell_type": "markdown",
      "source": [
        "# t-SNE visualisation of dimensionality\n",
        "Time to look at the results of your hard work. In this exercise, you will visualize the output of t-SNE dimensionality reduction on the combined male and female Ansur dataset. You'll create 3 scatterplots of the 2 t-SNE features ('x' and 'y') which were added to the dataset df. In each scatterplot you'll color the points according to a different categorical variable.\n",
        "\n",
        "seaborn has already been imported as sns and matplotlib.pyplot as plt.\n",
        "\n",
        "Instructions 1/3\n",
        "35 XP\n",
        "Use seaborn's sns.scatterplot to create the plot.\n",
        "Color the points by 'Component'."
      ],
      "metadata": {
        "id": "wwzu7R6hmtXL"
      }
    },
    {
      "cell_type": "code",
      "source": [
        "# Color the points according to Army Component\n",
        "sns.scatterplot(x=\"x\", y=\"y\", hue='Component', data=df)\n",
        "\n",
        "# Show the plot\n",
        "plt.show()"
      ],
      "metadata": {
        "id": "4dgqw-9rm20B"
      },
      "execution_count": null,
      "outputs": []
    },
    {
      "cell_type": "markdown",
      "source": [
        "Instructions 2/3\n",
        "Color the points of the scatterplot by 'Branch'."
      ],
      "metadata": {
        "id": "6Zv_Hgn_nBR5"
      }
    },
    {
      "cell_type": "code",
      "source": [
        "# Color the points by Army Branch\n",
        "sns.scatterplot(x=\"x\", y=\"y\", hue='Branch', data=df)\n",
        "\n",
        "# Show the plot\n",
        "plt.show()"
      ],
      "metadata": {
        "id": "EJ34jpKNnFvZ"
      },
      "execution_count": null,
      "outputs": []
    },
    {
      "cell_type": "markdown",
      "source": [
        "Instructions 3/3 Color the points of the scatterplot by 'Gender'."
      ],
      "metadata": {
        "id": "xU9JHxSInMmB"
      }
    },
    {
      "cell_type": "code",
      "source": [
        "# Color the points by Gender\n",
        "sns.scatterplot(x=\"x\", y=\"y\", hue='Gender', data=df)\n",
        "\n",
        "# Show the plot\n",
        "plt.show()"
      ],
      "metadata": {
        "id": "ox6-Y-jAnN0R"
      },
      "execution_count": null,
      "outputs": []
    },
    {
      "cell_type": "markdown",
      "source": [
        "# Train - test split\n",
        "In this chapter, you will keep working with the ANSUR dataset. Before you can build a model on your dataset, you should first decide on which feature you want to predict. In this case, you're trying to predict gender.\n",
        "\n",
        "You need to extract the column holding this feature from the dataset and then split the data into a training and test set. The training set will be used to train the model and the test set will be used to check its performance on unseen data.\n",
        "\n",
        "ansur_df has been pre-loaded for you.\n",
        "\n",
        "Instructions\n",
        "100 XP\n",
        "Import the train_test_split function from sklearn.model_selection.\n",
        "Assign the 'Gender' column to y.\n",
        "Remove the 'Gender' column from the DataFrame and assign the result to X.\n",
        "Set the test size to 30% to perform a 70% train and 30% test data split."
      ],
      "metadata": {
        "id": "yx8b2_rhp4jj"
      }
    },
    {
      "cell_type": "code",
      "source": [
        "# Import train_test_split()\n",
        "from sklearn.model_selection import train_test_split\n",
        "\n",
        "# Select the Gender column as the feature to be predicted (y)\n",
        "y = ansur_df['Gender']\n",
        "\n",
        "# Remove the Gender column to create the training data\n",
        "X = ansur_df.drop('Gender', axis=1)\n",
        "\n",
        "# Perform a 70% train and 30% test data split\n",
        "X_train, X_test, y_train, y_test = train_test_split(X, y, test_size=0.3)\n",
        "\n",
        "print(f\"{X_test.shape[0]} rows in test set vs. {X_train.shape[0]} in training set, {X_test.shape[1]} Features.\")"
      ],
      "metadata": {
        "id": "l4e2jHiLp43Y"
      },
      "execution_count": null,
      "outputs": []
    },
    {
      "cell_type": "markdown",
      "source": [
        "# Fitting and testing the model\n",
        "In the previous exercise, you split the dataset into X_train, X_test, y_train, and y_test. These datasets have been pre-loaded for you. You'll now create a support vector machine classifier model (SVC()) and fit that to the training data. You'll then calculate the accuracy on both the test and training set to detect overfitting.\n",
        "\n",
        "Instructions\n",
        "100 XP\n",
        "Import SVC from sklearn.svm and accuracy_score from sklearn.metrics\n",
        "Create an instance of the Support Vector Classification class (SVC()).\n",
        "Fit the model to the training data.\n",
        "Calculate accuracy scores on both train and test data."
      ],
      "metadata": {
        "id": "WoZI2ValuLt6"
      }
    },
    {
      "cell_type": "code",
      "source": [
        "# Import SVC from sklearn.svm and accuracy_score from sklearn.metrics\n",
        "from sklearn.svm import SVC\n",
        "from sklearn.metrics import accuracy_score\n",
        "\n",
        "# Create an instance of the Support Vector Classification class\n",
        "svc = SVC()\n",
        "\n",
        "# Fit the model to the training data\n",
        "svc.fit(X_train, y_train)\n",
        "\n",
        "# Calculate accuracy scores on both train and test data\n",
        "accuracy_train = accuracy_score(y_train, svc.predict(X_train))\n",
        "accuracy_test = accuracy_score(y_test, svc.predict(X_test))\n",
        "\n",
        "print(f\"{accuracy_test:.1%} accuracy on test set vs. {accuracy_train:.1%} on training set\")"
      ],
      "metadata": {
        "id": "fCGKoZjCuMOy"
      },
      "execution_count": null,
      "outputs": []
    },
    {
      "cell_type": "markdown",
      "source": [
        "# Accuracy after dimensionality reduction\n",
        "You'll reduce the overfit with the help of dimensionality reduction. In this case, you'll apply a rather drastic form of dimensionality reduction by only selecting a single column that has some good information to distinguish between genders. You'll repeat the train-test split, model fit and prediction steps to compare the accuracy on test versus training data.\n",
        "\n",
        "All relevant packages and y have been pre-loaded.\n",
        "\n",
        "Instructions\n",
        "100 XP\n",
        "Select just the neck circumference ('neckcircumferencebase') column from ansur_df.\n",
        "Split the data, instantiate a classifier and fit the data. This has been done for you.\n",
        "Once again calculate the accuracy scores on both training and test set."
      ],
      "metadata": {
        "id": "WzNzGxMZu8Pp"
      }
    },
    {
      "cell_type": "code",
      "source": [
        "# Assign just the 'neckcircumferencebase' column from ansur_df to X\n",
        "X = ansur_df[['neckcircumferencebase']]\n",
        "\n",
        "# Split the data, instantiate a classifier and fit the data\n",
        "X_train, X_test, y_train, y_test = train_test_split(X, y, test_size=0.3)\n",
        "svc = SVC()\n",
        "svc.fit(X_train, y_train)\n",
        "\n",
        "# Calculate accuracy scores on both train and test data\n",
        "accuracy_train = accuracy_score(y_train, svc.predict(X_train))\n",
        "accuracy_test = accuracy_score(y_test, svc.predict(X_test))\n",
        "\n",
        "print(f\"{accuracy_test:.1%} accuracy on test set vs. {accuracy_train:.1%} on training set\")"
      ],
      "metadata": {
        "id": "RCQXkE0Ru8ig"
      },
      "execution_count": null,
      "outputs": []
    },
    {
      "cell_type": "markdown",
      "source": [
        "# Finding a good variance threshold\n",
        "You'll be working on a slightly modified subsample of the ANSUR dataset with just head measurements pre-loaded as head_df.\n",
        "\n",
        "Instructions 1/4\n",
        "25 XP\n",
        "2\n",
        "3\n",
        "4\n",
        "Create a boxplot on head_df."
      ],
      "metadata": {
        "id": "acrX2sJVucN0"
      }
    },
    {
      "cell_type": "code",
      "source": [
        "# Create the boxplot\n",
        "head_df.boxplot()\n",
        "\n",
        "plt.show()"
      ],
      "metadata": {
        "id": "VTSpnX7WucmP"
      },
      "execution_count": null,
      "outputs": []
    },
    {
      "cell_type": "markdown",
      "source": [
        "Instructions 2/4\n",
        "25 XP\n",
        "3\n",
        "4\n",
        "Normalize the data by dividing the DataFrame with its mean values."
      ],
      "metadata": {
        "id": "uohXEIEwuomH"
      }
    },
    {
      "cell_type": "code",
      "source": [
        "# Normalize the data\n",
        "normalized_df = head_df / head_df.mean()\n",
        "\n",
        "normalized_df.boxplot()\n",
        "plt.show()"
      ],
      "metadata": {
        "id": "XmfeTRQfuo06"
      },
      "execution_count": null,
      "outputs": []
    },
    {
      "cell_type": "markdown",
      "source": [
        "Instructions 3/4\n",
        "25 XP\n",
        "4\n",
        "Print the variances of the normalized data."
      ],
      "metadata": {
        "id": "iBATK06Qu2G5"
      }
    },
    {
      "cell_type": "code",
      "source": [
        "# Normalize the data\n",
        "normalized_df = head_df / head_df.mean()\n",
        "\n",
        "# Print the variances of the normalized data\n",
        "print(normalized_df.var())"
      ],
      "metadata": {
        "id": "47gqiv3Eu2UK"
      },
      "execution_count": null,
      "outputs": []
    },
    {
      "cell_type": "markdown",
      "source": [
        "# Features with low variance\n",
        "In the previous exercise you established that 0.001 is a good threshold to filter out low variance features in head_df after normalization. Now use the VarianceThreshold feature selector to remove these features.\n",
        "\n",
        "Instructions\n",
        "100 XP\n",
        "Create the variance threshold selector with a threshold of 0.001.\n",
        "Normalize the head_df DataFrame by dividing it by its mean values and fit the selector.\n",
        "Create a boolean mask from the selector using .get_support().\n",
        "Create a reduced DataFrame by passing the mask to the .loc[] method."
      ],
      "metadata": {
        "id": "JZDlvjyEvlhc"
      }
    },
    {
      "cell_type": "code",
      "source": [
        "from sklearn.feature_selection import VarianceThreshold\n",
        "\n",
        "# Create a VarianceThreshold feature selector\n",
        "sel = VarianceThreshold(threshold=0.001)\n",
        "\n",
        "# Fit the selector to normalized head_df\n",
        "sel.fit(head_df / head_df.mean())\n",
        "\n",
        "# Create a boolean mask\n",
        "mask = sel.get_support()\n",
        "\n",
        "# Apply the mask to create a reduced DataFrame\n",
        "reduced_df = head_df.loc[:, mask]\n",
        "\n",
        "print(f\"Dimensionality reduced from {head_df.shape[1]} to {reduced_df.shape[1]}.\")"
      ],
      "metadata": {
        "id": "me46hbRQvlzQ"
      },
      "execution_count": null,
      "outputs": []
    },
    {
      "cell_type": "markdown",
      "source": [
        "# Removing features with many missing values\n",
        "You'll apply feature selection on the Boston Public Schools dataset which has been pre-loaded as school_df. Calculate the missing value ratio per feature and then create a mask to remove features with many missing values.\n",
        "\n",
        "Instructions 2/2\n",
        "50 XP\n",
        "Create a boolean mask on whether each feature has less than 50% missing values.\n",
        "Apply the mask to school_df to select columns without many missing values."
      ],
      "metadata": {
        "id": "0rCaDHQDwX9P"
      }
    },
    {
      "cell_type": "code",
      "source": [
        "# Create a boolean mask on whether each feature less than 50% missing values.\n",
        "mask = school_df.isna().sum() / len(school_df) < 0.5\n",
        "\n",
        "# Create a reduced dataset by applying the mask\n",
        "reduced_df = school_df.loc[:, mask]\n",
        "\n",
        "print(school_df.shape)\n",
        "print(reduced_df.shape)"
      ],
      "metadata": {
        "id": "LfJETpn1wYS2"
      },
      "execution_count": null,
      "outputs": []
    },
    {
      "cell_type": "markdown",
      "source": [
        "# Visualizing the correlation matrix\n",
        "Reading the correlation matrix of ansur_df in its raw, numeric format doesn't allow us to get a quick overview. Let's improve this by removing redundant values and visualizing the matrix using seaborn.\n",
        "\n",
        "Seaborn has been pre-loaded as sns, matplotlib.pyplot as plt, NumPy as np and pandas as pd.\n",
        "\n",
        "Instructions 1/4\n",
        "25 XP\n",
        "2\n",
        "3\n",
        "4\n",
        "Create the correlation matrix.\n",
        "Visualize it using Seaborn's heatmap function."
      ],
      "metadata": {
        "id": "Csf327Bkmck2"
      }
    },
    {
      "cell_type": "code",
      "source": [
        "# Create the correlation matrix\n",
        "corr = ansur_df.corr()\n",
        "\n",
        "# Draw a heatmap of the correlation matrix\n",
        "sns.heatmap(corr,  cmap=cmap, center=0, linewidths=1, annot=True, fmt=\".2f\")\n",
        "plt.show()"
      ],
      "metadata": {
        "id": "VtzBLSXXmc3R"
      },
      "execution_count": null,
      "outputs": []
    },
    {
      "cell_type": "markdown",
      "source": [
        "Instructions 2/4\n",
        "25 XP\n",
        "3\n",
        "4\n",
        "Create a boolean mask for the upper triangle of the plot.\\"
      ],
      "metadata": {
        "id": "05ii33grmg04"
      }
    },
    {
      "cell_type": "code",
      "source": [
        "# Create the correlation matrix\n",
        "corr = ansur_df.corr()\n",
        "\n",
        "# Generate a mask for the upper triangle\n",
        "mask = np.triu(np.ones_like(corr, dtype=bool))\n",
        "\n",
        "print(mask)"
      ],
      "metadata": {
        "id": "ZGDROgkGmhAI"
      },
      "execution_count": null,
      "outputs": []
    },
    {
      "cell_type": "markdown",
      "source": [
        "Instructions 3/4\n",
        "25 XP\n",
        "4\n",
        "Add the mask to the heatmap."
      ],
      "metadata": {
        "id": "GLrk0bZZmn0M"
      }
    },
    {
      "cell_type": "code",
      "source": [
        "# Create the correlation matrix\n",
        "corr = ansur_df.corr()\n",
        "\n",
        "# Generate a mask for the upper triangle\n",
        "mask = np.triu(np.ones_like(corr, dtype=bool))\n",
        "\n",
        "# Add the mask to the heatmap\n",
        "sns.heatmap(corr, mask=mask, cmap=cmap, center=0, linewidths=1, annot=True, fmt=\".2f\")\n",
        "plt.show()"
      ],
      "metadata": {
        "id": "3Uw9Ej9Kmoax"
      },
      "execution_count": null,
      "outputs": []
    },
    {
      "cell_type": "markdown",
      "source": [
        "# Filtering out highly correlated features\n",
        "You're going to automate the removal of highly correlated features in the numeric ANSUR dataset. You'll calculate the correlation matrix and filter out columns that have a correlation coefficient of more than 0.95 or less than -0.95.\n",
        "\n",
        "Since each correlation coefficient occurs twice in the matrix (correlation of A to B equals correlation of B to A) you'll want to ignore half of the correlation matrix so that only one of the two correlated features is removed. Use a mask trick for this purpose.\n",
        "\n",
        "Instructions\n",
        "100 XP\n",
        "Calculate the correlation matrix of ansur_df and take the absolute value of this matrix.\n",
        "Create a boolean mask with True values in the upper right triangle and apply it to the correlation matrix.\n",
        "Set the correlation coefficient threshold to 0.95.\n",
        "Drop all the columns listed in to_drop from the DataFrame."
      ],
      "metadata": {
        "id": "c0CAXclXTSj7"
      }
    },
    {
      "cell_type": "code",
      "source": [
        "# Calculate the correlation matrix and take the absolute value\n",
        "corr_df = ansur_df.corr().abs()\n",
        "\n",
        "# Create a True/False mask and apply it\n",
        "mask = np.triu(np.ones_like(corr_df, dtype=bool))\n",
        "tri_df = corr_df.mask(mask)\n",
        "\n",
        "# List column names of highly correlated features (r > 0.95)\n",
        "to_drop = [c for c in tri_df.columns if any(tri_df[c] >  0.95)]\n",
        "\n",
        "# Drop the features in the to_drop list\n",
        "reduced_df = ansur_df.drop(to_drop, axis=1)\n",
        "\n",
        "print(f\"The reduced_df DataFrame has {reduced_df.shape[1]} columns.\")"
      ],
      "metadata": {
        "id": "C4qp4hqgTS3j"
      },
      "execution_count": null,
      "outputs": []
    },
    {
      "cell_type": "markdown",
      "source": [
        "# Nuclear energy and pool drownings\n",
        "The dataset that has been pre-loaded for you as weird_df contains actual data provided by the US Centers for Disease Control & Prevention and Department of Energy.\n",
        "\n",
        "Let's see if we can find a pattern.\n",
        "\n",
        "Seaborn has been pre-loaded as sns and matplotlib.pyplot as plt.\n",
        "\n",
        "Instructions 1/4\n",
        "25 XP\n",
        "2\n",
        "3\n",
        "4\n",
        "Print the first five lines of weird_df."
      ],
      "metadata": {
        "id": "S9xiRZnUTpvQ"
      }
    },
    {
      "cell_type": "code",
      "source": [
        "# Print the first five lines of weird_df\n",
        "print(weird_df.head())"
      ],
      "metadata": {
        "id": "yEvwvVFrTp_j"
      },
      "execution_count": null,
      "outputs": []
    },
    {
      "cell_type": "markdown",
      "source": [
        "Instructions 2/4\n",
        "25 XP\n",
        "3\n",
        "4\n",
        "Create a scatterplot with nuclear energy production on the x-axis and the number of pool drownings on the y-axis."
      ],
      "metadata": {
        "id": "ta2iUmJUT_W9"
      }
    },
    {
      "cell_type": "code",
      "source": [
        "# Put nuclear energy production on the x-axis and the number of pool drownings on the y-axis\n",
        "sns.scatterplot(x='nuclear_energy', y='pool_drownings', data=weird_df)\n",
        "plt.show()"
      ],
      "metadata": {
        "id": "14V7NG00T_h7"
      },
      "execution_count": null,
      "outputs": []
    },
    {
      "cell_type": "markdown",
      "source": [
        "Instructions 3/4\n",
        "25 XP\n",
        "4\n",
        "Print out the correlation matrix of weird_df."
      ],
      "metadata": {
        "id": "hhllMxeBUI7A"
      }
    },
    {
      "cell_type": "code",
      "source": [
        "# Print out the correlation matrix of weird_df\n",
        "print(weird_df.corr())"
      ],
      "metadata": {
        "id": "k874cDPjUJRD"
      },
      "execution_count": null,
      "outputs": []
    }
  ]
}