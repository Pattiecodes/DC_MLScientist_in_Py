{
  "nbformat": 4,
  "nbformat_minor": 0,
  "metadata": {
    "colab": {
      "provenance": [],
      "authorship_tag": "ABX9TyPoVGiZyZ+AD5XzwyQ8Lcgk",
      "include_colab_link": true
    },
    "kernelspec": {
      "name": "python3",
      "display_name": "Python 3"
    },
    "language_info": {
      "name": "python"
    }
  },
  "cells": [
    {
      "cell_type": "markdown",
      "metadata": {
        "id": "view-in-github",
        "colab_type": "text"
      },
      "source": [
        "<a href=\"https://colab.research.google.com/github/Pattiecodes/DC_MLScientist_in_Py/blob/main/Module_7_Dimensionality_Reduction_in_Python.ipynb\" target=\"_parent\"><img src=\"https://colab.research.google.com/assets/colab-badge.svg\" alt=\"Open In Colab\"/></a>"
      ]
    },
    {
      "cell_type": "markdown",
      "source": [
        "# --- Module Start ---"
      ],
      "metadata": {
        "id": "TPJZjNO1_mAa"
      }
    },
    {
      "cell_type": "markdown",
      "source": [
        "# Removing features without variance\n",
        "A sample of the Pokemon dataset has been loaded as pokemon_df. To get an idea of which features have little variance you should use the IPython Shell to calculate summary statistics on this sample. Then adjust the code to create a smaller, easier to understand, dataset.\n",
        "\n",
        "Instructions 1/3\n",
        "35 XP\n",
        "2\n",
        "3\n",
        "Use the .describe() method to find the numeric feature without variance and remove its name from the list assigned to number_cols."
      ],
      "metadata": {
        "id": "IAUcQ5ob_o1r"
      }
    },
    {
      "cell_type": "code",
      "execution_count": null,
      "metadata": {
        "id": "i6E6KPI82mlg"
      },
      "outputs": [],
      "source": [
        "# Remove the feature without variance from this list\n",
        "number_cols = ['HP', 'Attack', 'Defense']\n",
        "\n",
        "pokemon_df.describe()"
      ]
    },
    {
      "cell_type": "markdown",
      "source": [
        "Instructions 2/3\n",
        "35 XP\n",
        "3\n",
        "Combine the two lists of feature names to sub-select the chosen features from pokemon_df."
      ],
      "metadata": {
        "id": "kCMO-mBf_v_u"
      }
    },
    {
      "cell_type": "code",
      "source": [
        "# Remove the feature without variance from this list\n",
        "number_cols = ['HP', 'Attack', 'Defense']\n",
        "\n",
        "# Leave this list as is for now\n",
        "non_number_cols = ['Name', 'Type', 'Legendary']\n",
        "\n",
        "# Sub-select by combining the lists with chosen features\n",
        "df_selected = pokemon_df[number_cols + non_number_cols]\n",
        "\n",
        "# Prints the first 5 lines of the new DataFrame\n",
        "print(df_selected.head())"
      ],
      "metadata": {
        "id": "gEiOv0WP_wUX"
      },
      "execution_count": null,
      "outputs": []
    },
    {
      "cell_type": "markdown",
      "source": [
        "Instructions 3/3\n",
        "30 XP\n",
        "Find the non-numeric feature without variance and remove its name from the list assigned to non_number_cols."
      ],
      "metadata": {
        "id": "gflMZVlsAR7y"
      }
    },
    {
      "cell_type": "code",
      "source": [
        "# Leave this list as is\n",
        "number_cols = ['HP', 'Attack', 'Defense']\n",
        "\n",
        "# Remove the feature without variance from this list\n",
        "non_number_cols = ['Name', 'Type']\n",
        "\n",
        "# Create a new DataFrame by subselecting the chosen features\n",
        "df_selected = pokemon_df[number_cols + non_number_cols]\n",
        "\n",
        "# Prints the first 5 lines of the new DataFrame\n",
        "print(df_selected.head())"
      ],
      "metadata": {
        "id": "0O1EAlrxASMw"
      },
      "execution_count": null,
      "outputs": []
    }
  ]
}