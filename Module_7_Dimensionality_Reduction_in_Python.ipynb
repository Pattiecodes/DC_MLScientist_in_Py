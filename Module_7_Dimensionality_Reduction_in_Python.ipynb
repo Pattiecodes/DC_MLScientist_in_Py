{
  "nbformat": 4,
  "nbformat_minor": 0,
  "metadata": {
    "colab": {
      "provenance": [],
      "authorship_tag": "ABX9TyOCKj+5OUoGKj0CMnFNXyBb",
      "include_colab_link": true
    },
    "kernelspec": {
      "name": "python3",
      "display_name": "Python 3"
    },
    "language_info": {
      "name": "python"
    }
  },
  "cells": [
    {
      "cell_type": "markdown",
      "metadata": {
        "id": "view-in-github",
        "colab_type": "text"
      },
      "source": [
        "<a href=\"https://colab.research.google.com/github/Pattiecodes/DC_MLScientist_in_Py/blob/main/Module_7_Dimensionality_Reduction_in_Python.ipynb\" target=\"_parent\"><img src=\"https://colab.research.google.com/assets/colab-badge.svg\" alt=\"Open In Colab\"/></a>"
      ]
    },
    {
      "cell_type": "markdown",
      "source": [
        "# --- Module Start ---"
      ],
      "metadata": {
        "id": "TPJZjNO1_mAa"
      }
    },
    {
      "cell_type": "markdown",
      "source": [
        "# Removing features without variance\n",
        "A sample of the Pokemon dataset has been loaded as pokemon_df. To get an idea of which features have little variance you should use the IPython Shell to calculate summary statistics on this sample. Then adjust the code to create a smaller, easier to understand, dataset.\n",
        "\n",
        "Instructions 1/3\n",
        "35 XP\n",
        "2\n",
        "3\n",
        "Use the .describe() method to find the numeric feature without variance and remove its name from the list assigned to number_cols."
      ],
      "metadata": {
        "id": "IAUcQ5ob_o1r"
      }
    },
    {
      "cell_type": "code",
      "execution_count": null,
      "metadata": {
        "id": "i6E6KPI82mlg"
      },
      "outputs": [],
      "source": [
        "# Remove the feature without variance from this list\n",
        "number_cols = ['HP', 'Attack', 'Defense']\n",
        "\n",
        "pokemon_df.describe()"
      ]
    },
    {
      "cell_type": "markdown",
      "source": [
        "Instructions 2/3\n",
        "35 XP\n",
        "3\n",
        "Combine the two lists of feature names to sub-select the chosen features from pokemon_df."
      ],
      "metadata": {
        "id": "kCMO-mBf_v_u"
      }
    },
    {
      "cell_type": "code",
      "source": [
        "# Remove the feature without variance from this list\n",
        "number_cols = ['HP', 'Attack', 'Defense']\n",
        "\n",
        "# Leave this list as is for now\n",
        "non_number_cols = ['Name', 'Type', 'Legendary']\n",
        "\n",
        "# Sub-select by combining the lists with chosen features\n",
        "df_selected = pokemon_df[number_cols + non_number_cols]\n",
        "\n",
        "# Prints the first 5 lines of the new DataFrame\n",
        "print(df_selected.head())"
      ],
      "metadata": {
        "id": "gEiOv0WP_wUX"
      },
      "execution_count": null,
      "outputs": []
    },
    {
      "cell_type": "markdown",
      "source": [
        "Instructions 3/3\n",
        "30 XP\n",
        "Find the non-numeric feature without variance and remove its name from the list assigned to non_number_cols."
      ],
      "metadata": {
        "id": "gflMZVlsAR7y"
      }
    },
    {
      "cell_type": "code",
      "source": [
        "# Leave this list as is\n",
        "number_cols = ['HP', 'Attack', 'Defense']\n",
        "\n",
        "# Remove the feature without variance from this list\n",
        "non_number_cols = ['Name', 'Type']\n",
        "\n",
        "# Create a new DataFrame by subselecting the chosen features\n",
        "df_selected = pokemon_df[number_cols + non_number_cols]\n",
        "\n",
        "# Prints the first 5 lines of the new DataFrame\n",
        "print(df_selected.head())"
      ],
      "metadata": {
        "id": "0O1EAlrxASMw"
      },
      "execution_count": null,
      "outputs": []
    },
    {
      "cell_type": "markdown",
      "source": [
        "# Visually detecting redundant features\n",
        "Data visualization is a crucial step in any data exploration. Let's use Seaborn to explore some samples of the US Army ANSUR body measurement dataset.\n",
        "\n",
        "Two data samples have been pre-loaded as ansur_df_1 and ansur_df_2.\n",
        "\n",
        "Seaborn has been imported as sns.\n",
        "\n",
        "Instructions 1/4\n",
        "25 XP\n",
        "2\n",
        "3\n",
        "4\n",
        "Create a pairplot of the ansur_df_1 data sample and color the points using the 'Gender' feature."
      ],
      "metadata": {
        "id": "LKm04_VIDpyg"
      }
    },
    {
      "cell_type": "code",
      "source": [
        "# Create a pairplot and color the points using the 'Gender' feature\n",
        "sns.pairplot(ansur_df_1, hue='Gender', diag_kind='hist')\n",
        "\n",
        "# Show the plot\n",
        "plt.show()"
      ],
      "metadata": {
        "id": "__msjtcPDqR0"
      },
      "execution_count": null,
      "outputs": []
    },
    {
      "cell_type": "markdown",
      "source": [
        "Instructions 2/4\n",
        "25 XP\n",
        "3\n",
        "4\n",
        "Two features are basically duplicates, remove one of them from the dataset.\n"
      ],
      "metadata": {
        "id": "oTKIr_YoEPKN"
      }
    },
    {
      "cell_type": "code",
      "source": [
        "# Remove one of the redundant features\n",
        "reduced_df = ansur_df_1.drop('stature_m', axis=1)\n",
        "\n",
        "# Create a pairplot and color the points using the 'Gender' feature\n",
        "sns.pairplot(reduced_df, hue='Gender')\n",
        "\n",
        "# Show the plot\n",
        "plt.show()"
      ],
      "metadata": {
        "id": "xJY1mp5dEPYP"
      },
      "execution_count": null,
      "outputs": []
    },
    {
      "cell_type": "markdown",
      "source": [
        "Instructions 3/4\n",
        "25 XP\n",
        "4\n",
        "Now create a pairplot of the ansur_df_2 data sample and color the points using the 'Gender' feature."
      ],
      "metadata": {
        "id": "-5IkUjLvEius"
      }
    },
    {
      "cell_type": "code",
      "source": [
        "# Create a pairplot and color the points using the 'Gender' feature\n",
        "sns.pairplot(ansur_df_2, hue='Gender', diag_kind='hist')\n",
        "\n",
        "\n",
        "# Show the plot\n",
        "plt.show()"
      ],
      "metadata": {
        "id": "BfbpeTHBEi81"
      },
      "execution_count": null,
      "outputs": []
    },
    {
      "cell_type": "markdown",
      "source": [
        "Instructions 4/4\n",
        "25 XP\n",
        "One feature has no variance, remove it from the dataset."
      ],
      "metadata": {
        "id": "IfThcgFfEtZH"
      }
    },
    {
      "cell_type": "code",
      "source": [
        "# Remove the redundant feature\n",
        "reduced_df = ansur_df_2.drop('n_legs', axis=1)\n",
        "\n",
        "# Create a pairplot and color the points using the 'Gender' feature\n",
        "sns.pairplot(reduced_df, hue='Gender', diag_kind='hist')\n",
        "\n",
        "# Show the plot\n",
        "plt.show()"
      ],
      "metadata": {
        "id": "-dwNHOEaEt80"
      },
      "execution_count": null,
      "outputs": []
    },
    {
      "cell_type": "markdown",
      "source": [
        "# Fitting t-SNE to the ANSUR data\n",
        "t-SNE is a great technique for visual exploration of high dimensional datasets. In this exercise, you'll apply it to the ANSUR dataset. You'll remove non-numeric columns from the pre-loaded dataset df and fit TSNE to this numeric dataset.\n",
        "\n",
        "Instructions\n",
        "100 XP\n",
        "Drop the non-numeric columns from the dataset.\n",
        "Create a TSNE model with learning rate 50.\n",
        "Fit and transform the model on the numeric dataset."
      ],
      "metadata": {
        "id": "fOej6jQQgBCg"
      }
    },
    {
      "cell_type": "code",
      "source": [
        "# Non-numerical columns in the dataset\n",
        "non_numeric = ['Branch', 'Gender', 'Component']\n",
        "\n",
        "# Drop the non-numerical columns from df\n",
        "df_numeric = df.drop(non_numeric, axis=1)\n",
        "\n",
        "# Create a t-SNE model with learning rate 50\n",
        "m = TSNE(learning_rate = 50)\n",
        "\n",
        "# Fit and transform the t-SNE model on the numeric dataset\n",
        "tsne_features = m.fit_transform(df_numeric)\n",
        "print(tsne_features.shape)"
      ],
      "metadata": {
        "id": "npObLW9mgBV7"
      },
      "execution_count": null,
      "outputs": []
    },
    {
      "cell_type": "markdown",
      "source": [
        "# t-SNE visualisation of dimensionality\n",
        "Time to look at the results of your hard work. In this exercise, you will visualize the output of t-SNE dimensionality reduction on the combined male and female Ansur dataset. You'll create 3 scatterplots of the 2 t-SNE features ('x' and 'y') which were added to the dataset df. In each scatterplot you'll color the points according to a different categorical variable.\n",
        "\n",
        "seaborn has already been imported as sns and matplotlib.pyplot as plt.\n",
        "\n",
        "Instructions 1/3\n",
        "35 XP\n",
        "Use seaborn's sns.scatterplot to create the plot.\n",
        "Color the points by 'Component'."
      ],
      "metadata": {
        "id": "wwzu7R6hmtXL"
      }
    },
    {
      "cell_type": "code",
      "source": [
        "# Color the points according to Army Component\n",
        "sns.scatterplot(x=\"x\", y=\"y\", hue='Component', data=df)\n",
        "\n",
        "# Show the plot\n",
        "plt.show()"
      ],
      "metadata": {
        "id": "4dgqw-9rm20B"
      },
      "execution_count": null,
      "outputs": []
    },
    {
      "cell_type": "markdown",
      "source": [
        "Instructions 2/3\n",
        "Color the points of the scatterplot by 'Branch'."
      ],
      "metadata": {
        "id": "6Zv_Hgn_nBR5"
      }
    },
    {
      "cell_type": "code",
      "source": [
        "# Color the points by Army Branch\n",
        "sns.scatterplot(x=\"x\", y=\"y\", hue='Branch', data=df)\n",
        "\n",
        "# Show the plot\n",
        "plt.show()"
      ],
      "metadata": {
        "id": "EJ34jpKNnFvZ"
      },
      "execution_count": null,
      "outputs": []
    },
    {
      "cell_type": "markdown",
      "source": [
        "Instructions 3/3 Color the points of the scatterplot by 'Gender'."
      ],
      "metadata": {
        "id": "xU9JHxSInMmB"
      }
    },
    {
      "cell_type": "code",
      "source": [
        "# Color the points by Gender\n",
        "sns.scatterplot(x=\"x\", y=\"y\", hue='Gender', data=df)\n",
        "\n",
        "# Show the plot\n",
        "plt.show()"
      ],
      "metadata": {
        "id": "ox6-Y-jAnN0R"
      },
      "execution_count": null,
      "outputs": []
    },
    {
      "cell_type": "markdown",
      "source": [
        "# Train - test split\n",
        "In this chapter, you will keep working with the ANSUR dataset. Before you can build a model on your dataset, you should first decide on which feature you want to predict. In this case, you're trying to predict gender.\n",
        "\n",
        "You need to extract the column holding this feature from the dataset and then split the data into a training and test set. The training set will be used to train the model and the test set will be used to check its performance on unseen data.\n",
        "\n",
        "ansur_df has been pre-loaded for you.\n",
        "\n",
        "Instructions\n",
        "100 XP\n",
        "Import the train_test_split function from sklearn.model_selection.\n",
        "Assign the 'Gender' column to y.\n",
        "Remove the 'Gender' column from the DataFrame and assign the result to X.\n",
        "Set the test size to 30% to perform a 70% train and 30% test data split."
      ],
      "metadata": {
        "id": "yx8b2_rhp4jj"
      }
    },
    {
      "cell_type": "code",
      "source": [
        "# Import train_test_split()\n",
        "from sklearn.model_selection import train_test_split\n",
        "\n",
        "# Select the Gender column as the feature to be predicted (y)\n",
        "y = ansur_df['Gender']\n",
        "\n",
        "# Remove the Gender column to create the training data\n",
        "X = ansur_df.drop('Gender', axis=1)\n",
        "\n",
        "# Perform a 70% train and 30% test data split\n",
        "X_train, X_test, y_train, y_test = train_test_split(X, y, test_size=0.3)\n",
        "\n",
        "print(f\"{X_test.shape[0]} rows in test set vs. {X_train.shape[0]} in training set, {X_test.shape[1]} Features.\")"
      ],
      "metadata": {
        "id": "l4e2jHiLp43Y"
      },
      "execution_count": null,
      "outputs": []
    }
  ]
}