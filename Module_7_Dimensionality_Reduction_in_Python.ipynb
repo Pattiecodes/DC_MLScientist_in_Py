{
  "nbformat": 4,
  "nbformat_minor": 0,
  "metadata": {
    "colab": {
      "provenance": [],
      "authorship_tag": "ABX9TyM8I73FAuhCYh6ueW5tJa8f",
      "include_colab_link": true
    },
    "kernelspec": {
      "name": "python3",
      "display_name": "Python 3"
    },
    "language_info": {
      "name": "python"
    }
  },
  "cells": [
    {
      "cell_type": "markdown",
      "metadata": {
        "id": "view-in-github",
        "colab_type": "text"
      },
      "source": [
        "<a href=\"https://colab.research.google.com/github/Pattiecodes/DC_MLScientist_in_Py/blob/main/Module_7_Dimensionality_Reduction_in_Python.ipynb\" target=\"_parent\"><img src=\"https://colab.research.google.com/assets/colab-badge.svg\" alt=\"Open In Colab\"/></a>"
      ]
    },
    {
      "cell_type": "markdown",
      "source": [
        "# --- Module Start ---"
      ],
      "metadata": {
        "id": "TPJZjNO1_mAa"
      }
    },
    {
      "cell_type": "markdown",
      "source": [
        "# Removing features without variance\n",
        "A sample of the Pokemon dataset has been loaded as pokemon_df. To get an idea of which features have little variance you should use the IPython Shell to calculate summary statistics on this sample. Then adjust the code to create a smaller, easier to understand, dataset.\n",
        "\n",
        "Instructions 1/3\n",
        "35 XP\n",
        "2\n",
        "3\n",
        "Use the .describe() method to find the numeric feature without variance and remove its name from the list assigned to number_cols."
      ],
      "metadata": {
        "id": "IAUcQ5ob_o1r"
      }
    },
    {
      "cell_type": "code",
      "execution_count": null,
      "metadata": {
        "id": "i6E6KPI82mlg"
      },
      "outputs": [],
      "source": [
        "# Remove the feature without variance from this list\n",
        "number_cols = ['HP', 'Attack', 'Defense']\n",
        "\n",
        "pokemon_df.describe()"
      ]
    },
    {
      "cell_type": "markdown",
      "source": [
        "Instructions 2/3\n",
        "35 XP\n",
        "3\n",
        "Combine the two lists of feature names to sub-select the chosen features from pokemon_df."
      ],
      "metadata": {
        "id": "kCMO-mBf_v_u"
      }
    },
    {
      "cell_type": "code",
      "source": [
        "# Remove the feature without variance from this list\n",
        "number_cols = ['HP', 'Attack', 'Defense']\n",
        "\n",
        "# Leave this list as is for now\n",
        "non_number_cols = ['Name', 'Type', 'Legendary']\n",
        "\n",
        "# Sub-select by combining the lists with chosen features\n",
        "df_selected = pokemon_df[number_cols + non_number_cols]\n",
        "\n",
        "# Prints the first 5 lines of the new DataFrame\n",
        "print(df_selected.head())"
      ],
      "metadata": {
        "id": "gEiOv0WP_wUX"
      },
      "execution_count": null,
      "outputs": []
    },
    {
      "cell_type": "markdown",
      "source": [
        "Instructions 3/3\n",
        "30 XP\n",
        "Find the non-numeric feature without variance and remove its name from the list assigned to non_number_cols."
      ],
      "metadata": {
        "id": "gflMZVlsAR7y"
      }
    },
    {
      "cell_type": "code",
      "source": [
        "# Leave this list as is\n",
        "number_cols = ['HP', 'Attack', 'Defense']\n",
        "\n",
        "# Remove the feature without variance from this list\n",
        "non_number_cols = ['Name', 'Type']\n",
        "\n",
        "# Create a new DataFrame by subselecting the chosen features\n",
        "df_selected = pokemon_df[number_cols + non_number_cols]\n",
        "\n",
        "# Prints the first 5 lines of the new DataFrame\n",
        "print(df_selected.head())"
      ],
      "metadata": {
        "id": "0O1EAlrxASMw"
      },
      "execution_count": null,
      "outputs": []
    },
    {
      "cell_type": "markdown",
      "source": [
        "# Visually detecting redundant features\n",
        "Data visualization is a crucial step in any data exploration. Let's use Seaborn to explore some samples of the US Army ANSUR body measurement dataset.\n",
        "\n",
        "Two data samples have been pre-loaded as ansur_df_1 and ansur_df_2.\n",
        "\n",
        "Seaborn has been imported as sns.\n",
        "\n",
        "Instructions 1/4\n",
        "25 XP\n",
        "2\n",
        "3\n",
        "4\n",
        "Create a pairplot of the ansur_df_1 data sample and color the points using the 'Gender' feature."
      ],
      "metadata": {
        "id": "LKm04_VIDpyg"
      }
    },
    {
      "cell_type": "code",
      "source": [
        "# Create a pairplot and color the points using the 'Gender' feature\n",
        "sns.pairplot(ansur_df_1, hue='Gender', diag_kind='hist')\n",
        "\n",
        "# Show the plot\n",
        "plt.show()"
      ],
      "metadata": {
        "id": "__msjtcPDqR0"
      },
      "execution_count": null,
      "outputs": []
    },
    {
      "cell_type": "markdown",
      "source": [
        "Instructions 2/4\n",
        "25 XP\n",
        "3\n",
        "4\n",
        "Two features are basically duplicates, remove one of them from the dataset.\n"
      ],
      "metadata": {
        "id": "oTKIr_YoEPKN"
      }
    },
    {
      "cell_type": "code",
      "source": [
        "# Remove one of the redundant features\n",
        "reduced_df = ansur_df_1.drop('stature_m', axis=1)\n",
        "\n",
        "# Create a pairplot and color the points using the 'Gender' feature\n",
        "sns.pairplot(reduced_df, hue='Gender')\n",
        "\n",
        "# Show the plot\n",
        "plt.show()"
      ],
      "metadata": {
        "id": "xJY1mp5dEPYP"
      },
      "execution_count": null,
      "outputs": []
    },
    {
      "cell_type": "markdown",
      "source": [
        "Instructions 3/4\n",
        "25 XP\n",
        "4\n",
        "Now create a pairplot of the ansur_df_2 data sample and color the points using the 'Gender' feature."
      ],
      "metadata": {
        "id": "-5IkUjLvEius"
      }
    },
    {
      "cell_type": "code",
      "source": [
        "# Create a pairplot and color the points using the 'Gender' feature\n",
        "sns.pairplot(ansur_df_2, hue='Gender', diag_kind='hist')\n",
        "\n",
        "\n",
        "# Show the plot\n",
        "plt.show()"
      ],
      "metadata": {
        "id": "BfbpeTHBEi81"
      },
      "execution_count": null,
      "outputs": []
    },
    {
      "cell_type": "markdown",
      "source": [
        "Instructions 4/4\n",
        "25 XP\n",
        "One feature has no variance, remove it from the dataset."
      ],
      "metadata": {
        "id": "IfThcgFfEtZH"
      }
    },
    {
      "cell_type": "code",
      "source": [
        "# Remove the redundant feature\n",
        "reduced_df = ansur_df_2.drop('n_legs', axis=1)\n",
        "\n",
        "# Create a pairplot and color the points using the 'Gender' feature\n",
        "sns.pairplot(reduced_df, hue='Gender', diag_kind='hist')\n",
        "\n",
        "# Show the plot\n",
        "plt.show()"
      ],
      "metadata": {
        "id": "-dwNHOEaEt80"
      },
      "execution_count": null,
      "outputs": []
    }
  ]
}