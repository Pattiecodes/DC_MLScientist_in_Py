{
  "nbformat": 4,
  "nbformat_minor": 0,
  "metadata": {
    "colab": {
      "provenance": [],
      "authorship_tag": "ABX9TyN9/r1ueHxtmwAf1VMs571b",
      "include_colab_link": true
    },
    "kernelspec": {
      "name": "python3",
      "display_name": "Python 3"
    },
    "language_info": {
      "name": "python"
    }
  },
  "cells": [
    {
      "cell_type": "markdown",
      "metadata": {
        "id": "view-in-github",
        "colab_type": "text"
      },
      "source": [
        "<a href=\"https://colab.research.google.com/github/Pattiecodes/DC_MLScientist_in_Py/blob/main/Module_6_Cluster_Analysis_In_Python.ipynb\" target=\"_parent\"><img src=\"https://colab.research.google.com/assets/colab-badge.svg\" alt=\"Open In Colab\"/></a>"
      ]
    },
    {
      "cell_type": "markdown",
      "source": [
        "# --- Module Start ---"
      ],
      "metadata": {
        "id": "61sd4LpD_eLE"
      }
    },
    {
      "cell_type": "markdown",
      "source": [
        "# Pokémon sightings\n",
        "There have been reports of sightings of rare, legendary Pokémon. You have been asked to investigate! Plot the coordinates of sightings to find out where the Pokémon might be. The X and Y coordinates of the points are stored in list x and y, respectively.\n",
        "\n",
        "Instructions\n",
        "100 XP\n",
        "Import the pyplot class from matplotlib library as plt.\n",
        "Create a scatter plot using the pyplot class.\n",
        "Display the scatter plot created in the earlier step."
      ],
      "metadata": {
        "id": "2hYtpOVs_htN"
      }
    },
    {
      "cell_type": "code",
      "execution_count": null,
      "metadata": {
        "id": "8aQ1r63_8xtB"
      },
      "outputs": [],
      "source": [
        "# Import plotting class from matplotlib library\n",
        "from matplotlib import pyplot as plt\n",
        "\n",
        "# Create a scatter plot\n",
        "plt.scatter(x, y)\n",
        "\n",
        "# Display the scatter plot\n",
        "plt.show()"
      ]
    },
    {
      "cell_type": "markdown",
      "source": [
        "# Pokémon sightings: hierarchical clustering\n",
        "We are going to continue the investigation into the sightings of legendary Pokémon from the previous exercise. Remember that in the scatter plot of the previous exercise, you identified two areas where Pokémon sightings were dense. This means that the points seem to separate into two clusters. In this exercise, you will form two clusters of the sightings using hierarchical clustering.\n",
        "\n",
        "'x' and 'y' are columns of X and Y coordinates of the locations of sightings, stored in a pandas DataFrame, df. The following are available for use: matplotlib.pyplot as plt, seaborn as sns, and pandas as pd.\n",
        "\n",
        "Instructions\n",
        "100 XP\n",
        "Import the linkage and fcluster libraries.\n",
        "Use the linkage() function to compute distances using the ward method.\n",
        "Generate cluster labels for each data point with two clusters using the fcluster() function.\n",
        "Plot the points with seaborn and assign a different color to each cluster."
      ],
      "metadata": {
        "id": "oEHbWwSTD1ZP"
      }
    },
    {
      "cell_type": "code",
      "source": [
        "# Import linkage and fcluster functions\n",
        "from scipy.cluster.hierarchy import linkage, fcluster\n",
        "# Use the linkage() function to compute distance\n",
        "Z = linkage(df, 'ward')\n",
        "\n",
        "# Generate cluster labels\n",
        "df['cluster_labels'] = fcluster(Z, 2, criterion='maxclust')\n",
        "\n",
        "# Plot the points with seaborn\n",
        "sns.scatterplot(x='x', y='y', hue='cluster_labels', data=df)\n",
        "plt.show()"
      ],
      "metadata": {
        "id": "PkfMSPd_D1vh"
      },
      "execution_count": null,
      "outputs": []
    },
    {
      "cell_type": "markdown",
      "source": [
        "# Pokémon sightings: k-means clustering\n",
        "We are going to continue the investigation into the sightings of legendary Pokémon from the previous exercise. Just like the previous exercise, we will use the same example of Pokémon sightings. In this exercise, you will form clusters of the sightings using k-means clustering.\n",
        "\n",
        "x and y are columns of X and Y coordinates of the locations of sightings, stored in a pandas DataFrame, df. The following are available for use: matplotlib.pyplot as plt, seaborn as sns, and pandas as pd.\n",
        "\n",
        "Instructions\n",
        "100 XP\n",
        "Import the kmeans and vq functions.\n",
        "Use the kmeans() function to compute cluster centers by defining two clusters.\n",
        "Assign cluster labels to each data point using vq() function.\n",
        "Plot the points"
      ],
      "metadata": {
        "id": "7AT6207E8Beo"
      }
    },
    {
      "cell_type": "code",
      "source": [
        "# Import kmeans and vq functions\n",
        "from scipy.cluster.vq import kmeans, vq\n",
        "\n",
        "# Compute cluster centers\n",
        "centroids,_ = kmeans(df, 2)\n",
        "\n",
        "# Assign cluster labels\n",
        "df['cluster_labels'], _ = vq(df, centroids)\n",
        "\n",
        "# Plot the points with seaborn\n",
        "sns.scatterplot(x='x', y='y', hue='cluster_labels', data=df)\n",
        "plt.show()"
      ],
      "metadata": {
        "id": "vojuods78B3Z"
      },
      "execution_count": null,
      "outputs": []
    },
    {
      "cell_type": "markdown",
      "source": [
        "# Normalize basic list data\n",
        "Now that you are aware of normalization, let us try to normalize some data. goals_for is a list of goals scored by a football team in their last ten matches. Let us standardize the data using the whiten() function.\n",
        "\n",
        "Instructions\n",
        "100 XP\n",
        "Import the whiten function.\n",
        "Use the whiten() function to standardize the data.\n",
        "\n"
      ],
      "metadata": {
        "id": "gNI0di1HAAWn"
      }
    },
    {
      "cell_type": "code",
      "source": [
        "# Import the whiten function\n",
        "from scipy.cluster.vq import whiten\n",
        "\n",
        "goals_for = [4,3,2,3,1,1,2,0,1,4]\n",
        "\n",
        "# Use the whiten() function to standardize the data\n",
        "scaled_data = whiten(goals_for)\n",
        "print(scaled_data)"
      ],
      "metadata": {
        "id": "-stK41VIADEQ"
      },
      "execution_count": null,
      "outputs": []
    },
    {
      "cell_type": "markdown",
      "source": [
        "# Visualize normalized data\n",
        "After normalizing your data, you can compare the scaled data to the original data to see the difference. The variables from the last exercise, goals_for and scaled_data are already available to you.\n",
        "\n",
        "Instructions\n",
        "100 XP\n",
        "Use the matplotlib library to plot the original and scaled data.\n",
        "Show the legend in the plot.\n",
        "Display the plot."
      ],
      "metadata": {
        "id": "bp2xxz-H3yw5"
      }
    },
    {
      "cell_type": "code",
      "source": [
        "# Plot original data\n",
        "plt.plot(goals_for, label='original')\n",
        "\n",
        "# Plot scaled data\n",
        "plt.plot(scaled_data, label='scaled')\n",
        "\n",
        "# Show the legend in the plot\n",
        "plt.legend()\n",
        "\n",
        "# Display the plot\n",
        "plt.show()"
      ],
      "metadata": {
        "id": "roGZ2-do3zEp"
      },
      "execution_count": null,
      "outputs": []
    },
    {
      "cell_type": "markdown",
      "source": [
        "# Normalization of small numbers\n",
        "In earlier examples, you have normalization of whole numbers. In this exercise, you will look at the treatment of fractional numbers - the change of interest rates in the country of Bangalla over the years. For your use, matplotlib.pyplot is imported as plt.\n",
        "\n",
        "Instructions\n",
        "100 XP\n",
        "Scale the list rate_cuts, which contains the changes in interest rates.\n",
        "Plot the original data against the scaled data."
      ],
      "metadata": {
        "id": "lHfPMSqr5Buu"
      }
    },
    {
      "cell_type": "code",
      "source": [
        "# Prepare data\n",
        "rate_cuts = [0.0025, 0.001, -0.0005, -0.001, -0.0005, 0.0025, -0.001, -0.0015, -0.001, 0.0005]\n",
        "\n",
        "# Use the whiten() function to standardize the data\n",
        "scaled_data = whiten(rate_cuts)\n",
        "\n",
        "# Plot original data\n",
        "plt.plot(rate_cuts, label='original')\n",
        "\n",
        "# Plot scaled data\n",
        "plt.plot(scaled_data, label='scaled')\n",
        "\n",
        "plt.legend()\n",
        "plt.show()"
      ],
      "metadata": {
        "id": "GLSkcqi75B-C"
      },
      "execution_count": null,
      "outputs": []
    }
  ]
}