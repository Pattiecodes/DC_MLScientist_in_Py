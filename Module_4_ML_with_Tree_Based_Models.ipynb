{
  "nbformat": 4,
  "nbformat_minor": 0,
  "metadata": {
    "colab": {
      "provenance": [],
      "authorship_tag": "ABX9TyPyd9tJvabIbQp18UNsdqJe",
      "include_colab_link": true
    },
    "kernelspec": {
      "name": "python3",
      "display_name": "Python 3"
    },
    "language_info": {
      "name": "python"
    }
  },
  "cells": [
    {
      "cell_type": "markdown",
      "metadata": {
        "id": "view-in-github",
        "colab_type": "text"
      },
      "source": [
        "<a href=\"https://colab.research.google.com/github/Pattiecodes/DC_MLScientist_in_Py/blob/main/Module_4_ML_with_Tree_Based_Models.ipynb\" target=\"_parent\"><img src=\"https://colab.research.google.com/assets/colab-badge.svg\" alt=\"Open In Colab\"/></a>"
      ]
    },
    {
      "cell_type": "markdown",
      "source": [
        "# --- Module Start ---"
      ],
      "metadata": {
        "id": "rGXYPw8kKE8I"
      }
    },
    {
      "cell_type": "markdown",
      "source": [
        "# Train your first classification tree\n",
        "In this exercise you'll work with the Wisconsin Breast Cancer Dataset from the UCI machine learning repository. You'll predict whether a tumor is malignant or benign based on two features: the mean radius of the tumor (radius_mean) and its mean number of concave points (concave points_mean).\n",
        "\n",
        "The dataset is already loaded in your workspace and is split into 80% train and 20% test. The feature matrices are assigned to X_train and X_test, while the arrays of labels are assigned to y_train and y_test where class 1 corresponds to a malignant tumor and class 0 corresponds to a benign tumor. To obtain reproducible results, we also defined a variable called SEED which is set to 1.\n",
        "\n",
        "Instructions\n",
        "100 XP\n",
        "Import DecisionTreeClassifier from sklearn.tree.\n",
        "\n",
        "Instantiate a DecisionTreeClassifier dt of maximum depth equal to 6.\n",
        "\n",
        "Fit dt to the training set.\n",
        "\n",
        "Predict the test set labels and assign the result to y_pred."
      ],
      "metadata": {
        "id": "jT9azjEHQaKQ"
      }
    },
    {
      "cell_type": "code",
      "execution_count": null,
      "metadata": {
        "id": "EgCtbhF7J0_T"
      },
      "outputs": [],
      "source": [
        "  # Import DecisionTreeClassifier from sklearn.tree\n",
        "from sklearn.tree import DecisionTreeClassifier\n",
        "\n",
        "# Instantiate a DecisionTreeClassifier 'dt' with a maximum depth of 6\n",
        "dt = DecisionTreeClassifier(max_depth=6, random_state=SEED)\n",
        "\n",
        "# Fit dt to the training set\n",
        "dt.fit(X_train, y_train)\n",
        "\n",
        "# Predict test set labels\n",
        "y_pred = dt.predict(X_test)\n",
        "print(y_pred[0:5])"
      ]
    },
    {
      "cell_type": "markdown",
      "source": [
        "# Evaluate the classification tree\n",
        "Now that you've fit your first classification tree, it's time to evaluate its performance on the test set. You'll do so using the accuracy metric which corresponds to the fraction of correct predictions made on the test set.\n",
        "\n",
        "The trained model dt from the previous exercise is loaded in your workspace along with the test set features matrix X_test and the array of labels y_test.\n",
        "\n",
        "Instructions\n",
        "100 XP\n",
        "Import the function accuracy_score from sklearn.metrics.\n",
        "\n",
        "Predict the test set labels and assign the obtained array to y_pred.\n",
        "\n",
        "Evaluate the test set accuracy score of dt by calling accuracy_score() and assign the value to acc."
      ],
      "metadata": {
        "id": "9WeFsrNIRNtP"
      }
    },
    {
      "cell_type": "code",
      "source": [
        "# Import accuracy_score\n",
        "from sklearn.metrics import accuracy_score\n",
        "\n",
        "# Predict test set labels\n",
        "y_pred = dt.predict(X_test)\n",
        "\n",
        "# Compute test set accuracy\n",
        "acc = accuracy_score(y_test, y_pred)\n",
        "print(\"Test set accuracy: {:.2f}\".format(acc))"
      ],
      "metadata": {
        "id": "FqbgXOq6ROIy"
      },
      "execution_count": null,
      "outputs": []
    },
    {
      "cell_type": "markdown",
      "source": [
        "# Logistic regression vs classification tree\n",
        "A classification tree divides the feature space into rectangular regions. In contrast, a linear model such as logistic regression produces only a single linear decision boundary dividing the feature space into two decision regions.\n",
        "\n",
        "We have written a custom function called plot_labeled_decision_regions() that you can use to plot the decision regions of a list containing two trained classifiers. You can type help(plot_labeled_decision_regions) in the shell to learn more about this function.\n",
        "\n",
        "X_train, X_test, y_train, y_test, the model dt that you've trained in an earlier exercise, as well as the function plot_labeled_decision_regions() are available in your workspace.\n",
        "\n",
        "Instructions\n",
        "100 XP\n",
        "Import LogisticRegression from sklearn.linear_model.\n",
        "\n",
        "Instantiate a LogisticRegression model and assign it to logreg.\n",
        "\n",
        "Fit logreg to the training set.\n",
        "\n",
        "Review the plot generated by plot_labeled_decision_regions()."
      ],
      "metadata": {
        "id": "yNQp5c_bd3q3"
      }
    },
    {
      "cell_type": "code",
      "source": [
        "# Import LogisticRegression from sklearn.linear_model\n",
        "from sklearn.linear_model import LogisticRegression\n",
        "\n",
        "# Instatiate logreg\n",
        "logreg = LogisticRegression(random_state=1)\n",
        "\n",
        "# Fit logreg to the training set\n",
        "logreg.fit(X_train, y_train)\n",
        "\n",
        "# Define a list called clfs containing the two classifiers logreg and dt\n",
        "clfs = [logreg, dt]\n",
        "\n",
        "# Review the decision regions of the two classifiers\n",
        "plot_labeled_decision_regions(X_test, y_test, clfs)"
      ],
      "metadata": {
        "id": "eltJzkHWd4JC"
      },
      "execution_count": null,
      "outputs": []
    },
    {
      "cell_type": "markdown",
      "source": [
        "# Using entropy as a criterion\n",
        "In this exercise, you'll train a classification tree on the Wisconsin Breast Cancer dataset using entropy as an information criterion. You'll do so using all the 30 features in the dataset, which is split into 80% train and 20% test.\n",
        "\n",
        "X_train as well as the array of labels y_train are available in your workspace.\n",
        "\n",
        "Instructions\n",
        "100 XP\n",
        "Import DecisionTreeClassifier from sklearn.tree.\n",
        "\n",
        "Instantiate a DecisionTreeClassifier dt_entropy with a maximum depth of 8.\n",
        "\n",
        "Set the information criterion to 'entropy'.\n",
        "\n",
        "Fit dt_entropy on the training set."
      ],
      "metadata": {
        "id": "ylrs9Q-0mDXW"
      }
    },
    {
      "cell_type": "code",
      "source": [
        "# Import DecisionTreeClassifier from sklearn.tree\n",
        "from sklearn.tree import DecisionTreeClassifier\n",
        "\n",
        "# Instantiate dt_entropy, set 'entropy' as the information criterion\n",
        "dt_entropy = DecisionTreeClassifier(max_depth=8, criterion='entropy', random_state=1)\n",
        "\n",
        "# Fit dt_entropy to the training set\n",
        "dt_entropy.fit(X_train, y_train)"
      ],
      "metadata": {
        "id": "GKHW2st6mDsb"
      },
      "execution_count": null,
      "outputs": []
    },
    {
      "cell_type": "markdown",
      "source": [
        "# Entropy vs Gini index\n",
        "In this exercise you'll compare the test set accuracy of dt_entropy to the accuracy of another tree named dt_gini. The tree dt_gini was trained on the same dataset using the same parameters except for the information criterion which was set to the gini index using the keyword 'gini'.\n",
        "\n",
        "X_test, y_test, dt_entropy, as well as accuracy_gini which corresponds to the test set accuracy achieved by dt_gini are available in your workspace.\n",
        "\n",
        "Instructions\n",
        "100 XP\n",
        "Import accuracy_score from sklearn.metrics.\n",
        "Predict the test set labels of dt_entropy and assign the result to y_pred.\n",
        "Evaluate the test set accuracy of dt_entropy and assign the result to accuracy_entropy.\n",
        "Review accuracy_entropy and accuracy_gini."
      ],
      "metadata": {
        "id": "RLvNkoB6lLbU"
      }
    },
    {
      "cell_type": "code",
      "source": [
        "# Import accuracy_score from sklearn.metrics\n",
        "from sklearn.metrics import accuracy_score\n",
        "\n",
        "# Use dt_entropy to predict test set labels\n",
        "y_pred = dt_entropy.predict(X_test)\n",
        "\n",
        "# Evaluate accuracy_entropy\n",
        "accuracy_entropy = accuracy_score(y_test, y_pred)\n",
        "\n",
        "# Print accuracy_entropy\n",
        "print(f'Accuracy achieved by using entropy: {accuracy_entropy:.3f}')\n",
        "\n",
        "# Print accuracy_gini\n",
        "print(f'Accuracy achieved by using the gini index: {accuracy_gini:.3f}')"
      ],
      "metadata": {
        "id": "rX5yQGgDlLwB"
      },
      "execution_count": null,
      "outputs": []
    },
    {
      "cell_type": "markdown",
      "source": [
        "# Train your first regression tree\n",
        "In this exercise, you'll train a regression tree to predict the mpg (miles per gallon) consumption of cars in the auto-mpg dataset using all the six available features.\n",
        "\n",
        "The dataset is processed for you and is split to 80% train and 20% test. The features matrix X_train and the array y_train are available in your workspace.\n",
        "\n",
        "Instructions\n",
        "100 XP\n",
        "Import DecisionTreeRegressor from sklearn.tree.\n",
        "Instantiate a DecisionTreeRegressor dt with maximum depth 8 and min_samples_leaf set to 0.13.\n",
        "Fit dt to the training set."
      ],
      "metadata": {
        "id": "naw9RzijpCCj"
      }
    },
    {
      "cell_type": "code",
      "source": [
        "# Import DecisionTreeRegressor from sklearn.tree\n",
        "from sklearn.tree import DecisionTreeRegressor\n",
        "\n",
        "# Instantiate dt\n",
        "dt = DecisionTreeRegressor(max_depth=8,\n",
        "             min_samples_leaf=0.13,\n",
        "            random_state=3)\n",
        "\n",
        "# Fit dt to the training set\n",
        "dt.fit(X_train, y_train)"
      ],
      "metadata": {
        "id": "q30qCbgjpCVk"
      },
      "execution_count": null,
      "outputs": []
    },
    {
      "cell_type": "markdown",
      "source": [
        "# Evaluate the regression tree\n",
        "In this exercise, you will evaluate the test set performance of dt using the Root Mean Squared Error (RMSE) metric. The RMSE of a model measures, on average, how much the model's predictions differ from the actual labels. The RMSE of a model can be obtained by computing the square root of the model's Mean Squared Error (MSE).\n",
        "\n",
        "The features matrix X_test, the array y_test, as well as the decision tree regressor dt that you trained in the previous exercise are available in your workspace.\n",
        "\n",
        "Instructions\n",
        "100 XP\n",
        "Import the function mean_squared_error as MSE from sklearn.metrics.\n",
        "Predict the test set labels and assign the output to y_pred.\n",
        "Compute the test set MSE by calling MSE and assign the result to mse_dt.\n",
        "Compute the test set RMSE and assign it to rmse_dt."
      ],
      "metadata": {
        "id": "DkJncTVGhubE"
      }
    },
    {
      "cell_type": "code",
      "source": [
        "# Import mean_squared_error from sklearn.metrics as MSE\n",
        "from sklearn.metrics import mean_squared_error as MSE\n",
        "\n",
        "# Compute y_pred\n",
        "y_pred = dt.predict(X_test)\n",
        "\n",
        "# Compute mse_dt\n",
        "mse_dt = MSE(y_test, y_pred)\n",
        "\n",
        "# Compute rmse_dt\n",
        "rmse_dt = mse_dt**(1/2)\n",
        "\n",
        "# Print rmse_dt\n",
        "print(\"Test set RMSE of dt: {:.2f}\".format(rmse_dt))"
      ],
      "metadata": {
        "id": "GcCIzi1rhu-z"
      },
      "execution_count": null,
      "outputs": []
    }
  ]
}