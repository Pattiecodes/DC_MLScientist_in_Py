{
  "nbformat": 4,
  "nbformat_minor": 0,
  "metadata": {
    "colab": {
      "provenance": [],
      "authorship_tag": "ABX9TyPxb+Vct68/j+TeWwpTv8xc",
      "include_colab_link": true
    },
    "kernelspec": {
      "name": "python3",
      "display_name": "Python 3"
    },
    "language_info": {
      "name": "python"
    }
  },
  "cells": [
    {
      "cell_type": "markdown",
      "metadata": {
        "id": "view-in-github",
        "colab_type": "text"
      },
      "source": [
        "<a href=\"https://colab.research.google.com/github/Pattiecodes/DC_MLScientist_in_Py/blob/main/Module_4_ML_with_Tree_Based_Models.ipynb\" target=\"_parent\"><img src=\"https://colab.research.google.com/assets/colab-badge.svg\" alt=\"Open In Colab\"/></a>"
      ]
    },
    {
      "cell_type": "markdown",
      "source": [
        "# --- Module Start ---"
      ],
      "metadata": {
        "id": "rGXYPw8kKE8I"
      }
    },
    {
      "cell_type": "markdown",
      "source": [
        "# Train your first classification tree\n",
        "In this exercise you'll work with the Wisconsin Breast Cancer Dataset from the UCI machine learning repository. You'll predict whether a tumor is malignant or benign based on two features: the mean radius of the tumor (radius_mean) and its mean number of concave points (concave points_mean).\n",
        "\n",
        "The dataset is already loaded in your workspace and is split into 80% train and 20% test. The feature matrices are assigned to X_train and X_test, while the arrays of labels are assigned to y_train and y_test where class 1 corresponds to a malignant tumor and class 0 corresponds to a benign tumor. To obtain reproducible results, we also defined a variable called SEED which is set to 1.\n",
        "\n",
        "Instructions\n",
        "100 XP\n",
        "Import DecisionTreeClassifier from sklearn.tree.\n",
        "\n",
        "Instantiate a DecisionTreeClassifier dt of maximum depth equal to 6.\n",
        "\n",
        "Fit dt to the training set.\n",
        "\n",
        "Predict the test set labels and assign the result to y_pred."
      ],
      "metadata": {
        "id": "jT9azjEHQaKQ"
      }
    },
    {
      "cell_type": "code",
      "execution_count": null,
      "metadata": {
        "id": "EgCtbhF7J0_T"
      },
      "outputs": [],
      "source": [
        "  # Import DecisionTreeClassifier from sklearn.tree\n",
        "from sklearn.tree import DecisionTreeClassifier\n",
        "\n",
        "# Instantiate a DecisionTreeClassifier 'dt' with a maximum depth of 6\n",
        "dt = DecisionTreeClassifier(max_depth=6, random_state=SEED)\n",
        "\n",
        "# Fit dt to the training set\n",
        "dt.fit(X_train, y_train)\n",
        "\n",
        "# Predict test set labels\n",
        "y_pred = dt.predict(X_test)\n",
        "print(y_pred[0:5])"
      ]
    },
    {
      "cell_type": "markdown",
      "source": [
        "# Evaluate the classification tree\n",
        "Now that you've fit your first classification tree, it's time to evaluate its performance on the test set. You'll do so using the accuracy metric which corresponds to the fraction of correct predictions made on the test set.\n",
        "\n",
        "The trained model dt from the previous exercise is loaded in your workspace along with the test set features matrix X_test and the array of labels y_test.\n",
        "\n",
        "Instructions\n",
        "100 XP\n",
        "Import the function accuracy_score from sklearn.metrics.\n",
        "\n",
        "Predict the test set labels and assign the obtained array to y_pred.\n",
        "\n",
        "Evaluate the test set accuracy score of dt by calling accuracy_score() and assign the value to acc."
      ],
      "metadata": {
        "id": "9WeFsrNIRNtP"
      }
    },
    {
      "cell_type": "code",
      "source": [
        "# Import accuracy_score\n",
        "from sklearn.metrics import accuracy_score\n",
        "\n",
        "# Predict test set labels\n",
        "y_pred = dt.predict(X_test)\n",
        "\n",
        "# Compute test set accuracy\n",
        "acc = accuracy_score(y_test, y_pred)\n",
        "print(\"Test set accuracy: {:.2f}\".format(acc))"
      ],
      "metadata": {
        "id": "FqbgXOq6ROIy"
      },
      "execution_count": null,
      "outputs": []
    },
    {
      "cell_type": "markdown",
      "source": [
        "# Logistic regression vs classification tree\n",
        "A classification tree divides the feature space into rectangular regions. In contrast, a linear model such as logistic regression produces only a single linear decision boundary dividing the feature space into two decision regions.\n",
        "\n",
        "We have written a custom function called plot_labeled_decision_regions() that you can use to plot the decision regions of a list containing two trained classifiers. You can type help(plot_labeled_decision_regions) in the shell to learn more about this function.\n",
        "\n",
        "X_train, X_test, y_train, y_test, the model dt that you've trained in an earlier exercise, as well as the function plot_labeled_decision_regions() are available in your workspace.\n",
        "\n",
        "Instructions\n",
        "100 XP\n",
        "Import LogisticRegression from sklearn.linear_model.\n",
        "\n",
        "Instantiate a LogisticRegression model and assign it to logreg.\n",
        "\n",
        "Fit logreg to the training set.\n",
        "\n",
        "Review the plot generated by plot_labeled_decision_regions()."
      ],
      "metadata": {
        "id": "yNQp5c_bd3q3"
      }
    },
    {
      "cell_type": "code",
      "source": [
        "# Import LogisticRegression from sklearn.linear_model\n",
        "from sklearn.linear_model import LogisticRegression\n",
        "\n",
        "# Instatiate logreg\n",
        "logreg = LogisticRegression(random_state=1)\n",
        "\n",
        "# Fit logreg to the training set\n",
        "logreg.fit(X_train, y_train)\n",
        "\n",
        "# Define a list called clfs containing the two classifiers logreg and dt\n",
        "clfs = [logreg, dt]\n",
        "\n",
        "# Review the decision regions of the two classifiers\n",
        "plot_labeled_decision_regions(X_test, y_test, clfs)"
      ],
      "metadata": {
        "id": "eltJzkHWd4JC"
      },
      "execution_count": null,
      "outputs": []
    },
    {
      "cell_type": "markdown",
      "source": [
        "# Using entropy as a criterion\n",
        "In this exercise, you'll train a classification tree on the Wisconsin Breast Cancer dataset using entropy as an information criterion. You'll do so using all the 30 features in the dataset, which is split into 80% train and 20% test.\n",
        "\n",
        "X_train as well as the array of labels y_train are available in your workspace.\n",
        "\n",
        "Instructions\n",
        "100 XP\n",
        "Import DecisionTreeClassifier from sklearn.tree.\n",
        "\n",
        "Instantiate a DecisionTreeClassifier dt_entropy with a maximum depth of 8.\n",
        "\n",
        "Set the information criterion to 'entropy'.\n",
        "\n",
        "Fit dt_entropy on the training set."
      ],
      "metadata": {
        "id": "ylrs9Q-0mDXW"
      }
    },
    {
      "cell_type": "code",
      "source": [
        "# Import DecisionTreeClassifier from sklearn.tree\n",
        "from sklearn.tree import DecisionTreeClassifier\n",
        "\n",
        "# Instantiate dt_entropy, set 'entropy' as the information criterion\n",
        "dt_entropy = DecisionTreeClassifier(max_depth=8, criterion='entropy', random_state=1)\n",
        "\n",
        "# Fit dt_entropy to the training set\n",
        "dt_entropy.fit(X_train, y_train)"
      ],
      "metadata": {
        "id": "GKHW2st6mDsb"
      },
      "execution_count": null,
      "outputs": []
    }
  ]
}