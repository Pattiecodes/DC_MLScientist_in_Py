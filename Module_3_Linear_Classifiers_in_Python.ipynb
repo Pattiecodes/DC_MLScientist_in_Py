{
  "nbformat": 4,
  "nbformat_minor": 0,
  "metadata": {
    "colab": {
      "provenance": [],
      "authorship_tag": "ABX9TyNgTw9FcSdb8vZIuN+BrD4B",
      "include_colab_link": true
    },
    "kernelspec": {
      "name": "python3",
      "display_name": "Python 3"
    },
    "language_info": {
      "name": "python"
    }
  },
  "cells": [
    {
      "cell_type": "markdown",
      "metadata": {
        "id": "view-in-github",
        "colab_type": "text"
      },
      "source": [
        "<a href=\"https://colab.research.google.com/github/Pattiecodes/DC_MLScientist_in_Py/blob/main/Module_3_Linear_Classifiers_in_Python.ipynb\" target=\"_parent\"><img src=\"https://colab.research.google.com/assets/colab-badge.svg\" alt=\"Open In Colab\"/></a>"
      ]
    },
    {
      "cell_type": "markdown",
      "source": [
        "# --- Module Start ---"
      ],
      "metadata": {
        "id": "s2Up4SGdTaNn"
      }
    },
    {
      "cell_type": "markdown",
      "source": [
        "# KNN classification\n",
        "In this exercise you'll explore a subset of the Large Movie Review Dataset. The variables X_train, X_test, y_train, and y_test are already loaded into the environment. The X variables contain features based on the words in the movie reviews, and the y variables contain labels for whether the review sentiment is positive (+1) or negative (-1).\n",
        "\n",
        "This course touches on a lot of concepts you may have forgotten, so if you ever need a quick refresher, download the scikit-learn Cheat Sheet and keep it handy!\n",
        "\n",
        "Instructions\n",
        "100 XP\n",
        "Create a KNN model with default hyperparameters.\n",
        "Fit the model.\n",
        "Print out the prediction for the test example 0."
      ],
      "metadata": {
        "id": "SVaAMOZkZBoW"
      }
    },
    {
      "cell_type": "code",
      "execution_count": null,
      "metadata": {
        "id": "2I2jm73ZOJI7"
      },
      "outputs": [],
      "source": [
        "from sklearn.neighbors import KNeighborsClassifier\n",
        "\n",
        "# Create and fit the model\n",
        "knn = KNeighborsClassifier(n_neighbors=1)\n",
        "knn.fit(X_train, y_train)\n",
        "\n",
        "# Predict on the test features, print the results\n",
        "pred = knn.predict(X_test)[0]\n",
        "print(\"Prediction for test example 0:\", pred)"
      ]
    }
  ]
}